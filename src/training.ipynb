{
 "cells": [
  {
   "cell_type": "code",
   "execution_count": 1,
   "id": "df95340b-fd91-4eb8-8d6b-e191f9534cc5",
   "metadata": {},
   "outputs": [
    {
     "data": {
      "text/plain": [
       "'/sdf/group/ml/xpcs/ml_sqw/src'"
      ]
     },
     "execution_count": 1,
     "metadata": {},
     "output_type": "execute_result"
    }
   ],
   "source": [
    "import numpy as np"
   ]
  },
  {
   "cell_type": "code",
   "execution_count": 4,
   "id": "e624107d-6a09-4910-a678-5f1824f7faa6",
   "metadata": {},
   "outputs": [
    {
     "name": "stdout",
     "output_type": "stream",
     "text": [
      "LICENSE  README.md  \u001b[0m\u001b[01;34msquare_lattice_data\u001b[0m/  square_lattice_regenerated.zip  \u001b[01;34msrc\u001b[0m/\n"
     ]
    }
   ],
   "source": [
    "ls .."
   ]
  },
  {
   "cell_type": "code",
   "execution_count": null,
   "id": "b235d1cd-8998-4d11-9903-29a753debfcd",
   "metadata": {},
   "outputs": [],
   "source": []
  }
 ],
 "metadata": {
  "kernelspec": {
   "display_name": "Python 3",
   "language": "python",
   "name": "python3"
  },
  "language_info": {
   "codemirror_mode": {
    "name": "ipython",
    "version": 3
   },
   "file_extension": ".py",
   "mimetype": "text/x-python",
   "name": "python",
   "nbconvert_exporter": "python",
   "pygments_lexer": "ipython3",
   "version": "3.8.12"
  }
 },
 "nbformat": 4,
 "nbformat_minor": 5
}

{
 "cells": [
  {
   "cell_type": "code",
   "execution_count": 1,
   "id": "6491039f",
   "metadata": {},
   "outputs": [],
   "source": [
    "import numpy as np \n",
    "import tensorflow as tf \n",
    "import os \n",
    "from matplotlib import pyplot as plt\n",
    "from sklearn.model_selection import train_test_split\n",
    "from sklearn.metrics import r2_score\n",
    "from tensorflow.keras import layers, utils\n",
    "from tqdm import tqdm\n",
    "from skimage.measure import block_reduce\n",
    "from sklearn.utils import shuffle\n",
    "from sklearn.model_selection import train_test_split\n",
    "import pandas as pd\n",
    "#from scipy.ndimage import gaussian_filter"
   ]
  },
  {
   "cell_type": "code",
   "execution_count": 2,
   "id": "55b539b0-d8c7-49d3-9159-1932d713e956",
   "metadata": {},
   "outputs": [],
   "source": [
    "def create_coordinate_data(pth):\n",
    "    #np.random.seed(47) \n",
    "    \n",
    "    data = [] # stores the coordinate data\n",
    "    mapping = [] # maintain a mapping between file names and training/testing/validation designation \n",
    "    \n",
    "    y_data = pd.read_csv(os.path.join(pth, 'parameters.csv'))\n",
    "    y_regression = np.array(y_data[['Jp','Jc']])\n",
    "    \n",
    "    for k in tqdm(range(1,len(y_regression)+1)):\n",
    "        \n",
    "        train_test_valid = np.random.choice([0.0, 1.0, 2.0], p=[0.8, 0.1, 0.1]) # 0 = train, 1 = valid, 2 = test \n",
    "        \n",
    "        j1 = y_regression[k-1][0]\n",
    "        j2 = y_regression[k-1][1]\n",
    "\n",
    "        c_q = np.array(pd.read_csv(os.path.join(pth, 'Klist_' + str(k) + '.csv'), header=None)).T\n",
    "        c_E = np.array(pd.read_csv(os.path.join(pth, 'Elist_' + str(k) + '.csv'), header=None)).T\n",
    "        c_sqw = np.array(pd.read_csv(os.path.join(pth, 'Sqw_withCorrectBroadening_' + str(k) + '.csv'), header=None)).T\n",
    "\n",
    "        for j in range(c_sqw.shape[1]):\n",
    "            for i in range(c_sqw.shape[0]):\n",
    "                data.append([train_test_valid, c_q[i][0], c_q[i][1], c_q[i][2], float(c_E[j])/200, j1, j2, c_sqw[i,j]])\n",
    "        \n",
    "        mapping.append([k, train_test_valid])\n",
    "        \n",
    "    data = np.array(data)\n",
    "    mapping = np.array(mapping)\n",
    "    \n",
    "    return data, mapping\n"
   ]
  },
  {
   "cell_type": "code",
   "execution_count": 3,
   "id": "7ebd2905-0335-49ee-8ecf-635ddce6eb9b",
   "metadata": {},
   "outputs": [
    {
     "name": "stderr",
     "output_type": "stream",
     "text": [
      "100%|██████████| 600/600 [02:22<00:00,  4.22it/s]\n",
      "100%|██████████| 600/600 [02:19<00:00,  4.29it/s]\n"
     ]
    }
   ],
   "source": [
    "base_path = '/sdf/home/c/chitturi/neural-representation-sqw/data_simulated/' \n",
    "\n",
    "data_slice_1, mapping_slice_1 = create_coordinate_data(os.path.join(base_path, 'AFM_data_slice1'))\n",
    "data_slice_2, mapping_slice_2 = create_coordinate_data(os.path.join(base_path, 'AFM_data_slice2'))"
   ]
  },
  {
   "cell_type": "code",
   "execution_count": 4,
   "id": "c48538d4-48c6-4498-8548-6f1c1e2fb1db",
   "metadata": {},
   "outputs": [],
   "source": [
    "data_both = np.vstack((data_slice_1, data_slice_2))\n",
    "np.save('data_both_paths_final_v3', data_both)\n",
    "np.save('mapping_slice_1', mapping_slice_1)\n",
    "np.save('mapping_slice_2', mapping_slice_2)"
   ]
  },
  {
   "cell_type": "code",
   "execution_count": 5,
   "id": "ef5bbcb1-57ed-4ccc-bf7c-dc12b80ce1dc",
   "metadata": {},
   "outputs": [],
   "source": [
    "data_both = np.load('data_both_paths_final_v3.npy')\n",
    "np.random.shuffle(data_both)"
   ]
  },
  {
   "cell_type": "code",
   "execution_count": 6,
   "id": "947db886-11cb-4dfc-b4d4-3a09304520ca",
   "metadata": {},
   "outputs": [],
   "source": [
    "train_idx = np.where(data_both[:,0] == 0.0)[0]\n",
    "valid_idx = np.where(data_both[:,0] == 1.0)[0]\n",
    "test_idx =  np.where(data_both[:,0] == 2.0)[0]\n",
    "\n",
    "X_train = data_both[train_idx, 1:7]\n",
    "X_valid =data_both[valid_idx, 1:7]\n",
    "X_test = data_both[test_idx, 1:7]\n",
    "\n",
    "y_train = data_both[train_idx, -1]\n",
    "y_valid = data_both[valid_idx, -1]\n",
    "y_test = data_both[test_idx, -1]\n",
    "\n",
    "         "
   ]
  },
  {
   "cell_type": "code",
   "execution_count": 13,
   "id": "c7110cf4-c72e-4621-8f85-1b7f344de934",
   "metadata": {},
   "outputs": [
    {
     "name": "stdout",
     "output_type": "stream",
     "text": [
      "2.3425\n"
     ]
    }
   ],
   "source": [
    "print(np.max(y_train))"
   ]
  },
  {
   "cell_type": "code",
   "execution_count": 7,
   "id": "ee5d7496-675b-4790-a3ff-c90bd32554ee",
   "metadata": {},
   "outputs": [
    {
     "name": "stdout",
     "output_type": "stream",
     "text": [
      "(28119600, 6)\n",
      "(3445600, 6)\n",
      "(3474800, 6)\n",
      "(28119600,)\n",
      "(3445600,)\n",
      "(3474800,)\n"
     ]
    }
   ],
   "source": [
    "print(X_train.shape)\n",
    "print(X_valid.shape)\n",
    "print(X_test.shape)\n",
    "\n",
    "print(y_train.shape)\n",
    "print(y_valid.shape)\n",
    "print(y_test.shape)"
   ]
  },
  {
   "cell_type": "code",
   "execution_count": 8,
   "id": "809464a4-6c2c-4fdc-b3ff-cfe8466779e4",
   "metadata": {},
   "outputs": [],
   "source": [
    "#np.savez('paper_data_code/neural_quantum_data_final_v3.npz', train_x=X_train, valid_x=X_valid, test_x=X_test, train_y=y_train, valid_y=y_valid, test_y=y_test)\n",
    "\n"
   ]
  },
  {
   "cell_type": "code",
   "execution_count": 2,
   "id": "b6a20464-fe48-426d-bdab-caf759048142",
   "metadata": {},
   "outputs": [],
   "source": [
    "data = np.load('paper_data_code/neural_quantum_data_final_v3.npz')"
   ]
  }
 ],
 "metadata": {
  "kernelspec": {
   "display_name": "Python 3",
   "language": "python",
   "name": "python3"
  },
  "language_info": {
   "codemirror_mode": {
    "name": "ipython",
    "version": 3
   },
   "file_extension": ".py",
   "mimetype": "text/x-python",
   "name": "python",
   "nbconvert_exporter": "python",
   "pygments_lexer": "ipython3",
   "version": "3.8.12"
  }
 },
 "nbformat": 4,
 "nbformat_minor": 5
}
